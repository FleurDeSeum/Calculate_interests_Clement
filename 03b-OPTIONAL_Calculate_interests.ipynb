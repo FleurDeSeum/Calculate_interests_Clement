{
  "cells": [
    {
      "cell_type": "markdown",
      "metadata": {
        "colab_type": "text",
        "id": "1NCGks54kp_n"
      },
      "source": [
        "# How much do you get for your savings ?"
      ]
    },
    {
      "cell_type": "markdown",
      "metadata": {
        "colab_type": "text",
        "id": "75Xe4f7vksGZ"
      },
      "source": [
        "It is said that if Christopher Columbus had set aside €1 that he had left at 2% interest per year, today his heirs would no longer need to work to live their lives. Let's try to calculate the same thing for our savings. "
      ]
    },
    {
      "cell_type": "markdown",
      "metadata": {
        "colab_type": "text",
        "id": "v4ugjwIakv2c"
      },
      "source": [
        "1. So let's create a function that will allow us to know how much money a user will have in total after a certain number of years.\n",
        "\n",
        "2. The user should be able to call the function which will then ask for :\n",
        "\n",
        "    1. The total amount he wishes to place\n",
        "    2. The number of years he wants to invest his money for\n",
        "    3. The rate of interest to which he is entitled\n",
        "    \n",
        "3. Pay attention to the errors that the user may enter.\n",
        "\n",
        "    4. If he enters a string of characters rather than a number, an error should be displayed.\n",
        "    5. If the user enters negative numbers, an error should also be output.\n",
        "    6. Finally, it is very likely that the user will write the interest rate as a percentage (e.g. 10%). Raise an error if this is the case, to prevent him from inputting a percentage.\n",
        "    \n",
        "4. Finally, the program should only show one number with a maximum of two digits after the decimal point.\n"
      ]
    },
    {
      "cell_type": "code",
      "execution_count": 7,
      "metadata": {},
      "outputs": [
        {
          "name": "stdout",
          "output_type": "stream",
          "text": [
            "Please enter numbers of the deposit (a positive number)\n",
            "1000 € deposit\n",
            "Please enter numbers of the duration (a positive number)\n",
            "a year\n",
            "Please enter numbers of the interest (a positive number with format 0.n)\n",
            "0.1 % of interest\n",
            "Please enter numbers of the deposit (a positive number)\n",
            "1000 € deposit\n",
            "Please enter numbers of the duration (a positive number)\n",
            "10 year\n",
            "Please enter numbers of the interest (a positive number with format 0.n)\n",
            "0.1 % of interest\n",
            "Your rent will be 2593.74€\n"
          ]
        }
      ],
      "source": [
        "def rent(deposit, duration, interest):\n",
        "\n",
        "    while True:\n",
        "        try:\n",
        "            deposit = float(deposit) or deposit > 0\n",
        "            duration = float(duration) or duration > 0\n",
        "            interest = float(interest) or interest > 0\n",
        "            break\n",
        "        except:\n",
        "            print(\"Please enter numbers of the deposit (a positive number)\")\n",
        "            deposit = input(\"How much did you put in ?\")\n",
        "            print(deposit, \"€ deposit\")\n",
        "            print(\"Please enter numbers of the duration (a positive number)\")\n",
        "            duration = input(\"How long time did you let it prosperate ?\")\n",
        "            print(duration, \"year\")\n",
        "            print(\"Please enter numbers of the interest (a positive number with format 0.n)\")\n",
        "            interest = input(\"What is the interest ?\")\n",
        "            print(interest, \"% of interest\")\n",
        "\n",
        "    true_duration = 0\n",
        "    while true_duration != duration:\n",
        "        deposit = deposit+(deposit*interest)\n",
        "        true_duration += 1\n",
        "    print (\"Your rent will be {:.2f}€\".format(deposit))\n",
        "\n",
        "rent(\"a\", \"a\", \"a\")"
      ]
    },
    {
      "cell_type": "code",
      "execution_count": 5,
      "metadata": {},
      "outputs": [
        {
          "ename": "UnboundLocalError",
          "evalue": "cannot access local variable 'duration' where it is not associated with a value",
          "output_type": "error",
          "traceback": [
            "\u001b[1;31m---------------------------------------------------------------------------\u001b[0m",
            "\u001b[1;31mUnboundLocalError\u001b[0m                         Traceback (most recent call last)",
            "Cell \u001b[1;32mIn[5], line 43\u001b[0m\n\u001b[0;32m     40\u001b[0m         true_duration \u001b[38;5;241m+\u001b[39m\u001b[38;5;241m=\u001b[39m \u001b[38;5;241m1\u001b[39m\n\u001b[0;32m     41\u001b[0m     \u001b[38;5;28mprint\u001b[39m (\u001b[38;5;124m\"\u001b[39m\u001b[38;5;124mYour rent will be \u001b[39m\u001b[38;5;132;01m{:.2f}\u001b[39;00m\u001b[38;5;124m€\u001b[39m\u001b[38;5;124m\"\u001b[39m\u001b[38;5;241m.\u001b[39mformat(deposit))\n\u001b[1;32m---> 43\u001b[0m \u001b[43mrent\u001b[49m\u001b[43m(\u001b[49m\u001b[43m)\u001b[49m\n",
            "Cell \u001b[1;32mIn[5], line 36\u001b[0m, in \u001b[0;36mrent\u001b[1;34m()\u001b[0m\n\u001b[0;32m     34\u001b[0m true_duration \u001b[38;5;241m=\u001b[39m \u001b[38;5;241m0\u001b[39m\n\u001b[0;32m     35\u001b[0m deposit \u001b[38;5;241m=\u001b[39m \u001b[38;5;28mfloat\u001b[39m(deposit)\n\u001b[1;32m---> 36\u001b[0m duration \u001b[38;5;241m=\u001b[39m \u001b[38;5;28mfloat\u001b[39m(\u001b[43mduration\u001b[49m)\n\u001b[0;32m     37\u001b[0m interest \u001b[38;5;241m=\u001b[39m \u001b[38;5;28mfloat\u001b[39m(interest)\n\u001b[0;32m     38\u001b[0m \u001b[38;5;28;01mwhile\u001b[39;00m true_duration \u001b[38;5;241m!=\u001b[39m duration:\n",
            "\u001b[1;31mUnboundLocalError\u001b[0m: cannot access local variable 'duration' where it is not associated with a value"
          ]
        }
      ],
      "source": [
        "def rent(deposit, duration, interest):\n",
        "\n",
        "    while True:\n",
        "        #tester si POS et float\n",
        "\n",
        "        try:\n",
        "            deposit = input(\"How much did you put in ?\")\n",
        "            deposit = float(deposit) or deposit > 0\n",
        "            break\n",
        "        except:\n",
        "            print(\"Please enter numbers of the deposit (a positive number)\")\n",
        "            deposit = input(\"How much did you put in ?\")\n",
        "            print(deposit, \"€ deposit\")\n",
        "\n",
        "        try:\n",
        "            duration = input(\"How long time did you let it prosperate ?\")\n",
        "            duration = float(duration) or duration > 0\n",
        "            break\n",
        "        except:\n",
        "            print(\"Please enter numbers of the duration (a positive number)\")\n",
        "            duration = input(\"How long time did you let it prosperate ?\")\n",
        "            print(duration, \"year\")\n",
        "\n",
        "        interest = input(\"What is the interest ?\")\n",
        "        try:\n",
        "            print(\"Please enter numbers of the interest (a positive number with format 0.n)\")\n",
        "            interest = float(interest) or interest > 0\n",
        "            break\n",
        "        except:\n",
        "            print(\"Please enter numbers of the interest (a positive number with format 0.n)\")\n",
        "            interest = input(\"What is the interest ?\")\n",
        "            print(interest, \"% of interest\")\n",
        "\n",
        "    true_duration = 0\n",
        "    deposit = float(deposit)\n",
        "    duration = float(duration)\n",
        "    interest = float(interest)\n",
        "    while true_duration != duration:\n",
        "        deposit = deposit+(deposit*interest)\n",
        "        true_duration += 1\n",
        "    print (\"Your rent will be {:.2f}€\".format(deposit))\n",
        "\n",
        "rent(1000, 10, 0.1)"
      ]
    },
    {
      "cell_type": "code",
      "execution_count": 8,
      "metadata": {},
      "outputs": [],
      "source": [
        "def savings():\n",
        "    try:\n",
        "        initial_amount = float(input(\"Give us the total amount you wish to invest : \\n\"))\n",
        "        print(initial_amount)\n",
        "        duration = float(input(\"How many years are you going to invest that money ? \\n\"))\n",
        "        print(duration)\n",
        "        interest_rate = float(input(\"At what rate would you like to see interest ?\\n \\\n",
        "              WARNING: You will have to put a decimal value \\n Ex: 10% --> 0.10 \\n\"))\n",
        "        print(interest_rate)\n",
        "    except ValueError:\n",
        "        # We enter this except only if the user types something other than numbers.\n",
        "        raise ValueError(\"Please enter only numbers !\") # makes it possible to explain the error\n",
        "    else:\n",
        "        # We enter this else if the user has typed numbers correctly.\n",
        "        # We're going to run successive tests to create the other errors\n",
        "        \n",
        "        if (initial_amount < 0) or (duration < 0) or (interest_rate < 0):\n",
        "            raise ValueError(\"You have entered one or more negative values. \\n \\\n",
        "            Please type only positive values !\")\n",
        "        \n",
        "        if interest_rate > 1:\n",
        "            raise ValueError(\"You have entered an interest rate greater than 1%. \\n \\\n",
        "            Please enter an interest rate as a decimal value !\")\n",
        "        \n",
        "        # The following code will be executed if no errors occurred upstream\n",
        "        total = initial_amount*(1+interest_rate)**(duration)\n",
        "        print(\"The total amount of money you will have after you deposit {:.2f} at the end of {} years will be {:.2f} €\"\n",
        "              .format(initial_amount, duration, total))\n",
        "        "
      ]
    },
    {
      "cell_type": "code",
      "execution_count": 9,
      "metadata": {},
      "outputs": [
        {
          "name": "stdout",
          "output_type": "stream",
          "text": [
            "1000.0\n"
          ]
        },
        {
          "ename": "ValueError",
          "evalue": "Please enter only numbers !",
          "output_type": "error",
          "traceback": [
            "\u001b[1;31m---------------------------------------------------------------------------\u001b[0m",
            "\u001b[1;31mValueError\u001b[0m                                Traceback (most recent call last)",
            "Cell \u001b[1;32mIn[8], line 5\u001b[0m, in \u001b[0;36msavings\u001b[1;34m()\u001b[0m\n\u001b[0;32m      4\u001b[0m \u001b[38;5;28mprint\u001b[39m(initial_amount)\n\u001b[1;32m----> 5\u001b[0m duration \u001b[38;5;241m=\u001b[39m \u001b[38;5;28;43mfloat\u001b[39;49m\u001b[43m(\u001b[49m\u001b[38;5;28;43minput\u001b[39;49m\u001b[43m(\u001b[49m\u001b[38;5;124;43m\"\u001b[39;49m\u001b[38;5;124;43mHow many years are you going to invest that money ? \u001b[39;49m\u001b[38;5;130;43;01m\\n\u001b[39;49;00m\u001b[38;5;124;43m\"\u001b[39;49m\u001b[43m)\u001b[49m\u001b[43m)\u001b[49m\n\u001b[0;32m      6\u001b[0m \u001b[38;5;28mprint\u001b[39m(duration)\n",
            "\u001b[1;31mValueError\u001b[0m: could not convert string to float: 'a'",
            "\nDuring handling of the above exception, another exception occurred:\n",
            "\u001b[1;31mValueError\u001b[0m                                Traceback (most recent call last)",
            "Cell \u001b[1;32mIn[9], line 1\u001b[0m\n\u001b[1;32m----> 1\u001b[0m \u001b[43msavings\u001b[49m\u001b[43m(\u001b[49m\u001b[43m)\u001b[49m\n",
            "Cell \u001b[1;32mIn[8], line 12\u001b[0m, in \u001b[0;36msavings\u001b[1;34m()\u001b[0m\n\u001b[0;32m      9\u001b[0m     \u001b[38;5;28mprint\u001b[39m(interest_rate)\n\u001b[0;32m     10\u001b[0m \u001b[38;5;28;01mexcept\u001b[39;00m \u001b[38;5;167;01mValueError\u001b[39;00m:\n\u001b[0;32m     11\u001b[0m     \u001b[38;5;66;03m# We enter this except only if the user types something other than numbers.\u001b[39;00m\n\u001b[1;32m---> 12\u001b[0m     \u001b[38;5;28;01mraise\u001b[39;00m \u001b[38;5;167;01mValueError\u001b[39;00m(\u001b[38;5;124m\"\u001b[39m\u001b[38;5;124mPlease enter only numbers !\u001b[39m\u001b[38;5;124m\"\u001b[39m) \u001b[38;5;66;03m# makes it possible to explain the error\u001b[39;00m\n\u001b[0;32m     13\u001b[0m \u001b[38;5;28;01melse\u001b[39;00m:\n\u001b[0;32m     14\u001b[0m     \u001b[38;5;66;03m# We enter this else if the user has typed numbers correctly.\u001b[39;00m\n\u001b[0;32m     15\u001b[0m     \u001b[38;5;66;03m# We're going to run successive tests to create the other errors\u001b[39;00m\n\u001b[0;32m     17\u001b[0m     \u001b[38;5;28;01mif\u001b[39;00m (initial_amount \u001b[38;5;241m<\u001b[39m \u001b[38;5;241m0\u001b[39m) \u001b[38;5;129;01mor\u001b[39;00m (duration \u001b[38;5;241m<\u001b[39m \u001b[38;5;241m0\u001b[39m) \u001b[38;5;129;01mor\u001b[39;00m (interest_rate \u001b[38;5;241m<\u001b[39m \u001b[38;5;241m0\u001b[39m):\n",
            "\u001b[1;31mValueError\u001b[0m: Please enter only numbers !"
          ]
        }
      ],
      "source": [
        "savings()"
      ]
    },
    {
      "cell_type": "code",
      "execution_count": null,
      "metadata": {},
      "outputs": [],
      "source": []
    }
  ],
  "metadata": {
    "colab": {
      "name": "Fondamentaux Python - Mini Projets S1-2B.ipynb",
      "provenance": [],
      "version": "0.3.2"
    },
    "kernelspec": {
      "display_name": "Python 3",
      "name": "python3"
    },
    "language_info": {
      "codemirror_mode": {
        "name": "ipython",
        "version": 3
      },
      "file_extension": ".py",
      "mimetype": "text/x-python",
      "name": "python",
      "nbconvert_exporter": "python",
      "pygments_lexer": "ipython3",
      "version": "3.12.1"
    }
  },
  "nbformat": 4,
  "nbformat_minor": 0
}
